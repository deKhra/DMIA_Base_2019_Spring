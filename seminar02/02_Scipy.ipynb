{
 "cells": [
  {
   "cell_type": "markdown",
   "metadata": {},
   "source": [
    "# Scipy"
   ]
  },
  {
   "cell_type": "markdown",
   "metadata": {},
   "source": [
    "Модуль scipy содержит множество инструментов, предназначенных для научных вычислений. \n",
    "\n",
    "Его различные подмодули соответствуют различным областям применения таким как: интерполяция, оптимизация, обработка изображений, статистика, специальные функции и другие."
   ]
  },
  {
   "cell_type": "code",
   "execution_count": null,
   "metadata": {},
   "outputs": [],
   "source": [
    "import numpy as np"
   ]
  },
  {
   "cell_type": "code",
   "execution_count": null,
   "metadata": {},
   "outputs": [],
   "source": [
    "import scipy"
   ]
  },
  {
   "cell_type": "code",
   "execution_count": null,
   "metadata": {},
   "outputs": [],
   "source": [
    "import matplotlib.pyplot as plt\n",
    "%matplotlib inline"
   ]
  },
  {
   "cell_type": "markdown",
   "metadata": {},
   "source": [
    "# scipy.special\n",
    "\n",
    "https://docs.scipy.org/doc/scipy/reference/special.html#module-scipy.special"
   ]
  },
  {
   "cell_type": "markdown",
   "metadata": {},
   "source": [
    "В математике есть набор функций, которые невозможно записать при помощи привычных нам функций (тригонометрических, логарифмов, экспонент и т.д.).\n",
    "\n",
    "Такие функции можно только приближённо вычислять и модуль scipy.special предоставляет такую возможность."
   ]
  },
  {
   "cell_type": "markdown",
   "metadata": {},
   "source": [
    "Например, $erf(x) = \\frac{2}{\\sqrt{\\pi}} \\int\\limits_{0}^{x} e^{-t^2} dt$ является такой функцией, но её можно вычислять в scipy.special"
   ]
  },
  {
   "cell_type": "code",
   "execution_count": null,
   "metadata": {},
   "outputs": [],
   "source": [
    "import scipy.special"
   ]
  },
  {
   "cell_type": "code",
   "execution_count": null,
   "metadata": {},
   "outputs": [],
   "source": [
    "scipy.special.erf(0.1)"
   ]
  },
  {
   "cell_type": "code",
   "execution_count": null,
   "metadata": {},
   "outputs": [],
   "source": [
    "scipy.special.erf(0.2)"
   ]
  },
  {
   "cell_type": "markdown",
   "metadata": {},
   "source": [
    "Численно посчитаем производную в точке 0.2"
   ]
  },
  {
   "cell_type": "code",
   "execution_count": null,
   "metadata": {},
   "outputs": [],
   "source": [
    "(scipy.special.erf(0.2 +  0.0001) - scipy.special.erf(0.2)) / 0.0001"
   ]
  },
  {
   "cell_type": "markdown",
   "metadata": {},
   "source": [
    "И она совпадёт со значнением подынтегрального выражения в точке 0.2 "
   ]
  },
  {
   "cell_type": "code",
   "execution_count": null,
   "metadata": {},
   "outputs": [],
   "source": [
    "2. / np.sqrt(np.pi) * np.exp(- 0.2 ** 2)"
   ]
  },
  {
   "cell_type": "markdown",
   "metadata": {},
   "source": [
    "Подробности можно прочитать в документации"
   ]
  },
  {
   "cell_type": "markdown",
   "metadata": {},
   "source": [
    "### Выводы:\n",
    "scipy позволяет вычислять сложные функции, которые нельзя легко выписать"
   ]
  },
  {
   "cell_type": "code",
   "execution_count": null,
   "metadata": {},
   "outputs": [],
   "source": []
  },
  {
   "cell_type": "code",
   "execution_count": null,
   "metadata": {},
   "outputs": [],
   "source": []
  },
  {
   "cell_type": "markdown",
   "metadata": {},
   "source": [
    "# scipy.linalg\n",
    "\n",
    "https://docs.scipy.org/doc/scipy/reference/linalg.html#module-scipy.linalg"
   ]
  },
  {
   "cell_type": "markdown",
   "metadata": {},
   "source": [
    "Линейная алгебра — раздел математики, изучающий объекты линейной природы: вектора, системы линейных уравнений,  матрицы. Среди основных инструментов, используемых в линейной алгебре — определители, матрицы, транспонирование. scipy.linalg посзволяет производить эти операции."
   ]
  },
  {
   "cell_type": "code",
   "execution_count": null,
   "metadata": {},
   "outputs": [],
   "source": [
    "import scipy.linalg"
   ]
  },
  {
   "cell_type": "markdown",
   "metadata": {},
   "source": [
    "Как вы думаете одно и то же или нет?"
   ]
  },
  {
   "cell_type": "code",
   "execution_count": null,
   "metadata": {},
   "outputs": [],
   "source": [
    "' '.join(sorted(dir(scipy.linalg))) == ' '.join(sorted(dir(np.linalg)))"
   ]
  },
  {
   "cell_type": "markdown",
   "metadata": {},
   "source": [
    "Создадим матрицу"
   ]
  },
  {
   "cell_type": "code",
   "execution_count": null,
   "metadata": {},
   "outputs": [],
   "source": [
    "arr = np.array(\n",
    "    [\n",
    "        [1, 2],\n",
    "        [3, 4]\n",
    "    ]\n",
    ")"
   ]
  },
  {
   "cell_type": "code",
   "execution_count": null,
   "metadata": {},
   "outputs": [],
   "source": [
    "arr"
   ]
  },
  {
   "cell_type": "markdown",
   "metadata": {},
   "source": [
    "Может найти определитель этой матрицы.\n",
    "\n",
    "Для матриц 2 на 2 он равен arr[0, 0] \\* arr[1, 1] - arr[1, 0] \\* arr[0, 1]"
   ]
  },
  {
   "cell_type": "markdown",
   "metadata": {},
   "source": [
    "**Вопрос: чему равен $\\det(ABC)$, а $\\det A^T$, а $\\det (-A)$?**"
   ]
  },
  {
   "cell_type": "code",
   "execution_count": null,
   "metadata": {},
   "outputs": [],
   "source": [
    "scipy.linalg.det(arr)"
   ]
  },
  {
   "cell_type": "code",
   "execution_count": null,
   "metadata": {},
   "outputs": [],
   "source": [
    "arr[0, 0] * arr[1, 1] - arr[1, 0] * arr[0, 1]"
   ]
  },
  {
   "cell_type": "markdown",
   "metadata": {},
   "source": [
    "Можем найти обратную матрицу\n",
    "\n",
    "Обратная матрица к матрице $A$, это такая матрица $B$,  что $A \\times B = E$, а $E$ - это матрица, у которой везде кроме диагонали нули, а на диалогали единицы."
   ]
  },
  {
   "cell_type": "markdown",
   "metadata": {},
   "source": [
    "**Вопрос: как связаны $\\det A$ и $\\det A^{-1}$?**"
   ]
  },
  {
   "cell_type": "code",
   "execution_count": null,
   "metadata": {},
   "outputs": [],
   "source": [
    "inv_arr = scipy.linalg.inv(arr)"
   ]
  },
  {
   "cell_type": "markdown",
   "metadata": {},
   "source": [
    "inv_arr"
   ]
  },
  {
   "cell_type": "code",
   "execution_count": null,
   "metadata": {},
   "outputs": [],
   "source": [
    "np.dot(arr, inv_arr)"
   ]
  },
  {
   "cell_type": "markdown",
   "metadata": {},
   "source": [
    "Не точные нули получаются из-за точности вычислений"
   ]
  },
  {
   "cell_type": "markdown",
   "metadata": {},
   "source": [
    "Также можно решать линейные системы уравнений."
   ]
  },
  {
   "cell_type": "markdown",
   "metadata": {},
   "source": [
    "$2x + y + 3z = 9$\n",
    "\n",
    "$x - 2y + z = -2$\n",
    "\n",
    "$3x + 2y + 2z = 7$\n",
    "\n"
   ]
  },
  {
   "cell_type": "markdown",
   "metadata": {},
   "source": [
    "Cоздадим соответсвующие массивы и матрицы"
   ]
  },
  {
   "cell_type": "code",
   "execution_count": null,
   "metadata": {},
   "outputs": [],
   "source": [
    "A = np.array([\n",
    "    [2, 1, 3],\n",
    "    [1, -2, 1],\n",
    "    [3, 2, 2]\n",
    "])\n",
    "\n",
    "b = np.array([9, 2, 7])"
   ]
  },
  {
   "cell_type": "markdown",
   "metadata": {},
   "source": [
    "Тогда система уравнений равносильна тому, что найти такой массив [x, y, z], что\n",
    "\n",
    "np.dot(A, [x, y, z]) == b\n",
    "\n",
    "\n",
    "**Вопрос: когда уравнение $Ax = b$ имеет единственное решение? просто имеет решения?**"
   ]
  },
  {
   "cell_type": "code",
   "execution_count": null,
   "metadata": {},
   "outputs": [],
   "source": [
    "solution = scipy.linalg.solve(A, b)"
   ]
  },
  {
   "cell_type": "code",
   "execution_count": null,
   "metadata": {},
   "outputs": [],
   "source": [
    "solution"
   ]
  },
  {
   "cell_type": "code",
   "execution_count": null,
   "metadata": {},
   "outputs": [],
   "source": [
    "np.dot(A, solution)"
   ]
  },
  {
   "cell_type": "markdown",
   "metadata": {},
   "source": [
    "Матрица должна быть обратима"
   ]
  },
  {
   "cell_type": "code",
   "execution_count": null,
   "metadata": {},
   "outputs": [],
   "source": [
    "A = np.array([\n",
    "    [2, 1, 3],\n",
    "    [2, 1, 3],\n",
    "    [0, 0, 1]\n",
    "])\n",
    "\n",
    "b = np.array([1, 1, 1])"
   ]
  },
  {
   "cell_type": "code",
   "execution_count": null,
   "metadata": {},
   "outputs": [],
   "source": [
    "scipy.linalg.solve(A, b)"
   ]
  },
  {
   "cell_type": "markdown",
   "metadata": {},
   "source": [
    "Можно считать длины векторов (значения массива можно считать координатами и тогда это будет вектор)"
   ]
  },
  {
   "cell_type": "code",
   "execution_count": null,
   "metadata": {},
   "outputs": [],
   "source": [
    "vec = np.array([0, 3, 4])"
   ]
  },
  {
   "cell_type": "code",
   "execution_count": null,
   "metadata": {},
   "outputs": [],
   "source": [
    "scipy.linalg.norm(vec) # sqrt(0 **2 + 3 ** 2 + 4 ** 2)"
   ]
  },
  {
   "cell_type": "markdown",
   "metadata": {},
   "source": [
    "Соответсвенно расстояние между двумя точками будет считатся так"
   ]
  },
  {
   "cell_type": "code",
   "execution_count": null,
   "metadata": {},
   "outputs": [],
   "source": [
    "a = np.array([1, 5])\n",
    "b = np.array([-3, 2])\n",
    "scipy.linalg.norm(a - b)"
   ]
  },
  {
   "cell_type": "code",
   "execution_count": null,
   "metadata": {},
   "outputs": [],
   "source": [
    "fig = plt.figure(figsize=(5, 5))\n",
    "ax = fig.add_subplot(1, 1, 1)\n",
    "ax.set_xticks(np.arange(-6, 7, 1))\n",
    "ax.set_yticks(np.arange(-6, 7, 1))\n",
    "plt.scatter([1, -3], [5, 2])\n",
    "plt.xlim(-6, 6)\n",
    "plt.ylim(-6, 6)\n",
    "plt.grid()"
   ]
  },
  {
   "cell_type": "code",
   "execution_count": null,
   "metadata": {},
   "outputs": [],
   "source": [
    "def points_dist(fst_point, snd_point):\n",
    "    fig = plt.figure(figsize=(5, 5))\n",
    "    ax = fig.add_subplot(1, 1, 1)\n",
    "    ax.set_xticks(np.arange(-6, 7, 1))\n",
    "    ax.set_yticks(np.arange(-6, 7, 1))\n",
    "    plt.scatter([fst_point[0], snd_point[0]], [fst_point[1], snd_point[1]])\n",
    "    plt.xlim(-6, 6)\n",
    "    plt.ylim(-6, 6)\n",
    "    plt.grid()\n",
    "    plt.plot([fst_point[0], snd_point[0]], [fst_point[1], snd_point[1]])\n",
    "    print(scipy.linalg.norm(np.array(fst_point) - np.array(snd_point)))"
   ]
  },
  {
   "cell_type": "code",
   "execution_count": null,
   "metadata": {},
   "outputs": [],
   "source": [
    "points_dist([0, 0], [3, 4])"
   ]
  },
  {
   "cell_type": "code",
   "execution_count": null,
   "metadata": {},
   "outputs": [],
   "source": [
    "points_dist([-3, -6], [2, 6])"
   ]
  },
  {
   "cell_type": "markdown",
   "metadata": {},
   "source": [
    "### Выводы:\n",
    "scipy можно использовать для работы с матрицами и векторами"
   ]
  },
  {
   "cell_type": "code",
   "execution_count": null,
   "metadata": {},
   "outputs": [],
   "source": []
  },
  {
   "cell_type": "markdown",
   "metadata": {},
   "source": [
    "# scipy.optimize\n",
    "\n",
    "https://docs.scipy.org/doc/scipy/reference/optimize.html#module-scipy.optimize"
   ]
  },
  {
   "cell_type": "markdown",
   "metadata": {},
   "source": [
    "При помощи scipy можно решать различные задачи оптимизации. scipy предоставляет целый набор различных методов оптимизации."
   ]
  },
  {
   "cell_type": "code",
   "execution_count": null,
   "metadata": {},
   "outputs": [],
   "source": [
    "import scipy.optimize"
   ]
  },
  {
   "cell_type": "markdown",
   "metadata": {},
   "source": [
    "Определим какую-нибудь функцию"
   ]
  },
  {
   "cell_type": "code",
   "execution_count": null,
   "metadata": {},
   "outputs": [],
   "source": [
    "def f(x):\n",
    "    return x ** 2 + 10 * np.sin(x) + 4 * np.cos(x / 2.)"
   ]
  },
  {
   "cell_type": "markdown",
   "metadata": {},
   "source": [
    "И нарисуем её график"
   ]
  },
  {
   "cell_type": "code",
   "execution_count": null,
   "metadata": {},
   "outputs": [],
   "source": [
    "x = np.arange(-10, 10, 0.1)\n",
    "plt.plot(x, f(x)) \n",
    "plt.show()"
   ]
  },
  {
   "cell_type": "markdown",
   "metadata": {},
   "source": [
    "Мы видим локальный минимум в окрестности точки -1.5"
   ]
  },
  {
   "cell_type": "markdown",
   "metadata": {},
   "source": [
    "scipy предоставляет общий способ нахождения минимума функции. Ему нужно передать саму функцию и начальное приближение, начиная с которого алгоритм будет искать минимум"
   ]
  },
  {
   "cell_type": "code",
   "execution_count": null,
   "metadata": {},
   "outputs": [],
   "source": [
    "res = scipy.optimize.fmin_bfgs(f, -5)[0]"
   ]
  },
  {
   "cell_type": "markdown",
   "metadata": {},
   "source": [
    "bfgs - название метода оптимизации"
   ]
  },
  {
   "cell_type": "code",
   "execution_count": null,
   "metadata": {},
   "outputs": [],
   "source": [
    "x = np.arange(-10, 10, 0.1)\n",
    "plt.plot(x, f(x)) \n",
    "plt.scatter([res], [f(res)])\n",
    "plt.show()"
   ]
  },
  {
   "cell_type": "markdown",
   "metadata": {},
   "source": [
    "Если выбрать неудачное начальное приближение, то возможно будет найден локальный, а не глобальный минимум"
   ]
  },
  {
   "cell_type": "code",
   "execution_count": null,
   "metadata": {},
   "outputs": [],
   "source": [
    "res = scipy.optimize.fmin_bfgs(f, -10)[0]\n",
    "x = np.arange(-10, 10, 0.1)\n",
    "plt.plot(x, f(x)) \n",
    "plt.scatter([res], [f(res)])\n",
    "plt.show()"
   ]
  },
  {
   "cell_type": "code",
   "execution_count": null,
   "metadata": {},
   "outputs": [],
   "source": [
    "res = scipy.optimize.fmin_bfgs(f, 5)[0]\n",
    "x = np.arange(-10, 10, 0.1)\n",
    "plt.plot(x, f(x)) \n",
    "plt.scatter([res], [f(res)])\n",
    "plt.show()"
   ]
  },
  {
   "cell_type": "markdown",
   "metadata": {},
   "source": [
    "Есть общий интерфейс для минимизации"
   ]
  },
  {
   "cell_type": "code",
   "execution_count": null,
   "metadata": {},
   "outputs": [],
   "source": [
    "scipy.optimize.minimize(f, 0)"
   ]
  },
  {
   "cell_type": "code",
   "execution_count": null,
   "metadata": {},
   "outputs": [],
   "source": [
    "scipy.optimize.minimize(f, 5)"
   ]
  },
  {
   "cell_type": "markdown",
   "metadata": {},
   "source": [
    "### Выводы:\n",
    "при помощи scipy можно оптимизировать произвольные функции"
   ]
  },
  {
   "cell_type": "code",
   "execution_count": null,
   "metadata": {},
   "outputs": [],
   "source": []
  },
  {
   "cell_type": "markdown",
   "metadata": {},
   "source": [
    "# Задача линейного программирования"
   ]
  },
  {
   "cell_type": "markdown",
   "metadata": {},
   "source": [
    "Колхоз имеет возможность приобрести не более 19 трехтонных автомашин и не более 17 пятитонных. Отпускная цена трехтонного грузовика - 4000 руб., пятитонного - 5000 руб. Колхоз может выделить для приобретения автомашин 141 тысяч рублей. Сколько нужно приобрести автомашин, чтобы их суммарная грузоподъемность была максимальной?"
   ]
  },
  {
   "cell_type": "markdown",
   "metadata": {},
   "source": [
    "$x$ - число трёхтонных машин\n",
    "\n",
    "$y$ - число пятитонных машин\n",
    "\n",
    "$4x + 5y$ - затраты на покупку машин в тысячах рублей\n",
    "\n",
    "$3x + 5y$ - суммарная грузоподъёмность\n",
    "\n",
    "\n",
    "Нужно решить задачу:\n",
    "\n",
    "$3x + 5y \\to max$\n",
    "\n",
    "С ограничениями:\n",
    "\n",
    "$0 \\leq x \\leq 19$\n",
    "\n",
    "$0 \\leq y \\leq 17$\n",
    "\n",
    "$4x + 5y \\leq 141$"
   ]
  },
  {
   "cell_type": "code",
   "execution_count": null,
   "metadata": {},
   "outputs": [],
   "source": [
    "c = [-3, -5]\n",
    "A_ub = [\n",
    "    [4, 5],\n",
    "    [1, 0],\n",
    "    [0, 1]\n",
    "]\n",
    "b_ub = [\n",
    "    141,\n",
    "    19,\n",
    "    17\n",
    "]\n",
    "\n",
    "scipy.optimize.linprog(c=c, A_ub=A_ub, b_ub=b_ub)"
   ]
  },
  {
   "cell_type": "markdown",
   "metadata": {},
   "source": [
    "Пусть теперь пятитонные и шеститонные грузовики"
   ]
  },
  {
   "cell_type": "code",
   "execution_count": null,
   "metadata": {},
   "outputs": [],
   "source": [
    "c = [-5, -6]\n",
    "A_ub = [\n",
    "    [4, 5],\n",
    "    [1, 0],\n",
    "    [0, 1]\n",
    "]\n",
    "b_ub = [\n",
    "    141,\n",
    "    19,\n",
    "    17\n",
    "]\n",
    "\n",
    "scipy.optimize.linprog(c=c, A_ub=A_ub, b_ub=b_ub)"
   ]
  },
  {
   "cell_type": "code",
   "execution_count": null,
   "metadata": {},
   "outputs": [],
   "source": []
  },
  {
   "cell_type": "markdown",
   "metadata": {},
   "source": [
    "### Машинное обучение это тоже оптимизация"
   ]
  },
  {
   "cell_type": "markdown",
   "metadata": {},
   "source": [
    "Давайте напишем класс, который будеть искать линейную зависимость методом наименьших квадратов\n",
    "\n",
    "$\\sum_{i=1}^n (<w, x_i> - y_i)^2 \\to \\min_{w}$\n",
    "\n",
    "заодно узнаем как писать свои классы :)"
   ]
  },
  {
   "cell_type": "code",
   "execution_count": null,
   "metadata": {},
   "outputs": [],
   "source": [
    "class LinearModel(object): # наследуемся от object – стандартная практика\n",
    "    def __init__(self, loss_function): # конструктор имеет название __init__ и первым аргументом всегда имеет self\n",
    "        self.loss_function = loss_function\n",
    "        \n",
    "    def fit(self, X_data, y_data):\n",
    "        \"\"\"\n",
    "        тут можно написать документацию метода\n",
    "        X - это выборка признаков, y - выборка целевых переменных\n",
    "        \"\"\"\n",
    "        # пока сделаем реализацию через scipy.optimize\n",
    "        \n",
    "        def func(weights):\n",
    "            return np.sum(self.loss_function(np.dot(X_data, weights[1:]) + weights[0] - y_data))\n",
    "        \n",
    "        self.weights = scipy.optimize.minimize(func, np.ones(X_data.shape[1] + 1)).x\n",
    "        return self\n",
    "        \n",
    "    def predict(self, X_data):\n",
    "        return np.dot(X_data, self.weights[1:]) + self.weights[0]"
   ]
  },
  {
   "cell_type": "markdown",
   "metadata": {},
   "source": [
    "Генерируем данные"
   ]
  },
  {
   "cell_type": "code",
   "execution_count": null,
   "metadata": {},
   "outputs": [],
   "source": [
    "X_data = np.random.uniform(0, 10, size=50)\n",
    "y_data = X_data * 0.5 + 7 + np.random.uniform(-1, 1, size=len(X_data))"
   ]
  },
  {
   "cell_type": "markdown",
   "metadata": {},
   "source": [
    "И визуализируем их"
   ]
  },
  {
   "cell_type": "code",
   "execution_count": null,
   "metadata": {},
   "outputs": [],
   "source": [
    "plt.figure(figsize=(10, 5))\n",
    "plt.scatter(X_data, y_data)\n",
    "plt.ylim(0)\n",
    "plt.xlim(0)\n",
    "plt.grid()\n",
    "plt.show()"
   ]
  },
  {
   "cell_type": "markdown",
   "metadata": {},
   "source": [
    "Далее обучаем модель"
   ]
  },
  {
   "cell_type": "code",
   "execution_count": null,
   "metadata": {},
   "outputs": [],
   "source": [
    "model = LinearModel(lambda arr: np.abs(arr)).fit(X_data[:, np.newaxis], y_data)"
   ]
  },
  {
   "cell_type": "markdown",
   "metadata": {},
   "source": [
    "И визуализируем её"
   ]
  },
  {
   "cell_type": "code",
   "execution_count": null,
   "metadata": {},
   "outputs": [],
   "source": [
    "plt.figure(figsize=(10, 5))\n",
    "plt.scatter(X_data, y_data)\n",
    "plt.plot(X_data, model.predict(X_data[:, np.newaxis]), c='green')\n",
    "plt.ylim(0)\n",
    "plt.xlim(0)\n",
    "plt.grid()\n",
    "plt.show()"
   ]
  },
  {
   "cell_type": "markdown",
   "metadata": {},
   "source": [
    "Объединим всё в одну функцию чтобы было проще рисовать"
   ]
  },
  {
   "cell_type": "code",
   "execution_count": null,
   "metadata": {},
   "outputs": [],
   "source": [
    "def plot_example(error_size=1, loss_function=None, outliers_num=0):\n",
    "    if loss_function is None:\n",
    "        loss_function = lambda arr: arr ** 2\n",
    "    \n",
    "    X_data = np.random.uniform(0, 10, size=50)\n",
    "    y_data = X_data * 0.5 + 7 + np.random.uniform(-error_size, error_size, size=len(X_data))\n",
    "    \n",
    "    if outliers_num > 0:\n",
    "        X_out = 1 + np.random.uniform(-0.7, 0.7, size=outliers_num)\n",
    "        y_out = 20 + np.random.uniform(-0.7, 0.7, size=outliers_num)\n",
    "        X_data = np.concatenate((X_data, X_out))\n",
    "        y_data = np.concatenate((y_data, y_out))\n",
    "    \n",
    "    model = LinearModel(loss_function).fit(X_data[:, np.newaxis], y_data)\n",
    "    \n",
    "    plt.figure(figsize=(10, 5))\n",
    "    plt.scatter(X_data, y_data)\n",
    "    plt.plot(X_data, model.predict(X_data[:, np.newaxis]), c='green')\n",
    "    plt.ylim(0)\n",
    "    plt.xlim(0)\n",
    "    plt.grid()\n",
    "    plt.show()"
   ]
  },
  {
   "cell_type": "code",
   "execution_count": null,
   "metadata": {},
   "outputs": [],
   "source": [
    "plot_example(1, lambda arr: arr ** 2)"
   ]
  },
  {
   "cell_type": "markdown",
   "metadata": {},
   "source": [
    "Вроде всё хорошо, но добавим выбросы?"
   ]
  },
  {
   "cell_type": "code",
   "execution_count": null,
   "metadata": {},
   "outputs": [],
   "source": [
    "plot_example(1, lambda arr: arr ** 2, outliers_num=10)"
   ]
  },
  {
   "cell_type": "markdown",
   "metadata": {},
   "source": [
    "Линия ушла вверх и покосилась, почему так получается? Давайте заменим функцию потрель на модуль? Ну так, чисто по фану"
   ]
  },
  {
   "cell_type": "code",
   "execution_count": null,
   "metadata": {},
   "outputs": [],
   "source": [
    "plot_example(1, lambda arr: np.abs(arr), outliers_num=10)"
   ]
  },
  {
   "cell_type": "markdown",
   "metadata": {},
   "source": [
    "Внезапно заработало, почему так? Обязательно расскажем на занятии про метрики, а пока можете попробовать сами обосновать"
   ]
  },
  {
   "cell_type": "code",
   "execution_count": null,
   "metadata": {},
   "outputs": [],
   "source": []
  },
  {
   "cell_type": "markdown",
   "metadata": {},
   "source": [
    "### Мы же крутые ребята, правда? Зачем нам пользоваться scipy.optimize для квадратичной функции потерь, если мы можем просто вывести формулу оптимального решения!"
   ]
  },
  {
   "cell_type": "markdown",
   "metadata": {},
   "source": [
    "Пусть $X$ - матрица признаков, $w$ – веса признаков, $w_0$ – свободный коэффициент, $y$ – вектор целевых переменных.\n",
    "\n",
    "Наша цель – решить оптимизационную задачу:\n",
    "$||X w + y||^2 \\to \\min_{w} $\n",
    "\n",
    "$$ 0 = \\frac{\\partial{}}{\\partial{w}}||X w + y||^2 = 2X^TXw + 2 X^T y \\implies $$\n",
    "$$ w = (X^TX)^{-1} X^T y$$\n"
   ]
  },
  {
   "cell_type": "code",
   "execution_count": null,
   "metadata": {},
   "outputs": [],
   "source": [
    "class CoolModel(object):\n",
    "\n",
    "    def fit(self, X_data, y_data):\n",
    "        X_modified = np.hstack((\n",
    "            np.ones((X_data.shape[0], 1)), \n",
    "            X_data\n",
    "        ))\n",
    "        self.weights = np.dot(\n",
    "            np.linalg.inv(np.dot(X_modified.T, X_modified)), \n",
    "            np.dot(X_modified.T, y_data)\n",
    "        )\n",
    "        return self\n",
    "        \n",
    "    def predict(self, X_data):\n",
    "        return np.dot(X_data, self.weights[1:]) + self.weights[0]"
   ]
  },
  {
   "cell_type": "code",
   "execution_count": null,
   "metadata": {},
   "outputs": [],
   "source": [
    "model = CoolModel().fit(X_data[:, np.newaxis], y_data)\n",
    "print(model.weights)"
   ]
  },
  {
   "cell_type": "code",
   "execution_count": null,
   "metadata": {},
   "outputs": [],
   "source": [
    "model = LinearModel(lambda arr: arr ** 2).fit(X_data[:, np.newaxis], y_data)\n",
    "print(model.weights)"
   ]
  },
  {
   "cell_type": "markdown",
   "metadata": {},
   "source": [
    "Лол, она похоже работает. А по времени что получается?"
   ]
  },
  {
   "cell_type": "code",
   "execution_count": null,
   "metadata": {},
   "outputs": [],
   "source": [
    "%timeit CoolModel().fit(X_data[:, np.newaxis], y_data)"
   ]
  },
  {
   "cell_type": "code",
   "execution_count": null,
   "metadata": {},
   "outputs": [],
   "source": [
    "%timeit LinearModel(lambda arr: arr ** 2).fit(X_data[:, np.newaxis], y_data)"
   ]
  },
  {
   "cell_type": "markdown",
   "metadata": {},
   "source": [
    "Хм, иногда уметь в математику лучше чем писать велосипед"
   ]
  },
  {
   "cell_type": "code",
   "execution_count": null,
   "metadata": {},
   "outputs": [],
   "source": [
    "from sklearn.linear_model import LinearRegression"
   ]
  },
  {
   "cell_type": "code",
   "execution_count": null,
   "metadata": {},
   "outputs": [],
   "source": [
    "%timeit LinearRegression().fit(X_data[:, np.newaxis], y_data)"
   ]
  },
  {
   "cell_type": "markdown",
   "metadata": {},
   "source": [
    "Даже лучше sklearn-a!!!"
   ]
  },
  {
   "cell_type": "code",
   "execution_count": null,
   "metadata": {},
   "outputs": [],
   "source": []
  },
  {
   "cell_type": "markdown",
   "metadata": {},
   "source": [
    "Не, правда лучше :) Но совершенно не гибко и нельзя менять функции потерь, а в асолютах эти разницы не столь велики, чтобы за них бороться"
   ]
  },
  {
   "cell_type": "code",
   "execution_count": null,
   "metadata": {},
   "outputs": [],
   "source": [
    "X_data = np.random.uniform(0, 10, size=50000)\n",
    "y_data = X_data * 0.5 + 7 + np.random.uniform(-1, 1, size=len(X_data))"
   ]
  },
  {
   "cell_type": "code",
   "execution_count": null,
   "metadata": {},
   "outputs": [],
   "source": [
    "%timeit CoolModel().fit(X_data[:, np.newaxis], y_data)"
   ]
  },
  {
   "cell_type": "code",
   "execution_count": null,
   "metadata": {},
   "outputs": [],
   "source": [
    "%timeit LinearModel(lambda arr: arr ** 2).fit(X_data[:, np.newaxis], y_data)"
   ]
  },
  {
   "cell_type": "code",
   "execution_count": null,
   "metadata": {},
   "outputs": [],
   "source": [
    "%timeit LinearRegression().fit(X_data[:, np.newaxis], y_data)"
   ]
  },
  {
   "cell_type": "code",
   "execution_count": null,
   "metadata": {},
   "outputs": [],
   "source": []
  }
 ],
 "metadata": {
  "kernelspec": {
   "display_name": "Python 3",
   "language": "python",
   "name": "python3"
  },
  "language_info": {
   "codemirror_mode": {
    "name": "ipython",
    "version": 3
   },
   "file_extension": ".py",
   "mimetype": "text/x-python",
   "name": "python",
   "nbconvert_exporter": "python",
   "pygments_lexer": "ipython3",
   "version": "3.6.5"
  }
 },
 "nbformat": 4,
 "nbformat_minor": 2
}
