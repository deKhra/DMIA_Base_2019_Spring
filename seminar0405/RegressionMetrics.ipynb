{
 "cells": [
  {
   "cell_type": "code",
   "execution_count": 1,
   "metadata": {},
   "outputs": [],
   "source": [
    "import sklearn.metrics\n",
    "import numpy as np\n",
    "from sklearn.datasets import load_iris\n",
    "from sklearn.datasets import load_breast_cancer\n",
    "from sklearn.datasets import load_diabetes\n",
    "from sklearn.linear_model import LogisticRegression\n",
    "from sklearn.ensemble import RandomForestRegressor\n",
    "from sklearn.model_selection import cross_val_score\n",
    "from sklearn.model_selection import cross_validate\n",
    "import matplotlib.pyplot as plt\n",
    "\n",
    "from IPython.display import display, Image\n",
    "\n",
    "%matplotlib inline"
   ]
  },
  {
   "cell_type": "markdown",
   "metadata": {},
   "source": [
    "# Стандартные метрики регрессии"
   ]
  },
  {
   "cell_type": "markdown",
   "metadata": {},
   "source": [
    "- Общая концепция - $\\frac1n \\sum\\limits_{i=1}^n L(a(x_i), y_i)$\n",
    "\n",
    "-  MAE - Mean Absolute Error - $\\frac1n \\sum\\limits_{i=1}^n |a(x_i) - y_i|$\n",
    "\n",
    "- MSE - Mean Squared Error - $\\frac1n \\sum\\limits_{i=1}^n (a(x_i) - y_i)^2$\n",
    "\n",
    "- MAPE - Mean Absolute Percentage Error - $\\frac1n \\sum\\limits_{i=1}^n \\frac{|a(x_i) - y_i|}{y_i}$\n",
    "\n",
    "- sMAPE - symmetric Mean Absolute Percentage Error - $\\frac2n \\sum\\limits_{i=1}^n \\frac{|a(x_i) - y_i|}{a(x_i) + y_i}$"
   ]
  },
  {
   "cell_type": "markdown",
   "metadata": {},
   "source": [
    "Нарисуем функции потерь и попробуем догадаться, каким цветом они обозначены:"
   ]
  },
  {
   "cell_type": "code",
   "execution_count": 3,
   "metadata": {},
   "outputs": [
    {
     "data": {
      "image/png": "[encoded data removed]",
      "text/plain": [
       "<Figure size 432x288 with 1 Axes>"
      ]
     },
     "metadata": {},
     "output_type": "display_data"
    }
   ],
   "source": [
    "y_true = 0.5\n",
    "y_pred = np.linspace(y_true * 0.5, y_true * 1.5, 100)\n",
    "\n",
    "def create_regression_losses(y_true, y_pred, shuffle=True):\n",
    "\n",
    "    loss1 = [np.abs(y_true - yp) for yp in y_pred]\n",
    "    loss2 = [(y_true - yp) ** 2 for yp in y_pred]\n",
    "    loss3 = [np.abs(y_true - yp) / y_true for yp in y_pred]\n",
    "    loss4 = [2 * np.abs(y_true - yp) / (y_true + yp) for yp in y_pred]\n",
    "    \n",
    "    losses = [loss1, loss2, loss3, loss4]\n",
    "    if shuffle:\n",
    "        np.random.shuffle(losses)\n",
    "    return losses\n",
    "\n",
    "for loss in create_regression_losses(y_true, y_pred):\n",
    "    plt.plot(y_pred, loss)\n",
    "\n",
    "plt.grid()"
   ]
  },
  {
   "cell_type": "code",
   "execution_count": 42,
   "metadata": {},
   "outputs": [],
   "source": [
    "data = load_diabetes()"
   ]
  },
  {
   "cell_type": "code",
   "execution_count": 43,
   "metadata": {},
   "outputs": [
    {
     "data": {
      "text/plain": [
       "array([-48.01891892, -46.70816327, -51.20204082])"
      ]
     },
     "execution_count": 43,
     "metadata": {},
     "output_type": "execute_result"
    }
   ],
   "source": [
    "cross_val_score(RandomForestRegressor(), data.data, data.target, cv=3, scoring='neg_mean_absolute_error')"
   ]
  },
  {
   "cell_type": "code",
   "execution_count": 44,
   "metadata": {},
   "outputs": [
    {
     "data": {
      "text/plain": [
       "array([-3540.69581081, -3905.65489796, -3455.23027211])"
      ]
     },
     "execution_count": 44,
     "metadata": {},
     "output_type": "execute_result"
    }
   ],
   "source": [
    "cross_val_score(RandomForestRegressor(), data.data, data.target, cv=3, scoring='neg_mean_squared_error')"
   ]
  },
  {
   "cell_type": "code",
   "execution_count": 45,
   "metadata": {},
   "outputs": [
    {
     "ename": "ValueError",
     "evalue": "'neg_mean_absolute_percentage_error' is not a valid scoring value. Valid options are ['accuracy', 'adjusted_mutual_info_score', 'adjusted_rand_score', 'average_precision', 'completeness_score', 'explained_variance', 'f1', 'f1_macro', 'f1_micro', 'f1_samples', 'f1_weighted', 'fowlkes_mallows_score', 'homogeneity_score', 'mutual_info_score', 'neg_log_loss', 'neg_mean_absolute_error', 'neg_mean_squared_error', 'neg_mean_squared_log_error', 'neg_median_absolute_error', 'normalized_mutual_info_score', 'precision', 'precision_macro', 'precision_micro', 'precision_samples', 'precision_weighted', 'r2', 'recall', 'recall_macro', 'recall_micro', 'recall_samples', 'recall_weighted', 'roc_auc', 'v_measure_score']",
     "output_type": "error",
     "traceback": [
      "\u001b[0;31m---------------------------------------------------------------------------\u001b[0m",
      "\u001b[0;31mValueError\u001b[0m                                Traceback (most recent call last)",
      "\u001b[0;32m<ipython-input-45-c634e1b7064e>\u001b[0m in \u001b[0;36m<module>\u001b[0;34m()\u001b[0m\n\u001b[0;32m----> 1\u001b[0;31m \u001b[0mcross_val_score\u001b[0m\u001b[0;34m(\u001b[0m\u001b[0mRandomForestRegressor\u001b[0m\u001b[0;34m(\u001b[0m\u001b[0;34m)\u001b[0m\u001b[0;34m,\u001b[0m \u001b[0mdata\u001b[0m\u001b[0;34m.\u001b[0m\u001b[0mdata\u001b[0m\u001b[0;34m,\u001b[0m \u001b[0mdata\u001b[0m\u001b[0;34m.\u001b[0m\u001b[0mtarget\u001b[0m\u001b[0;34m,\u001b[0m \u001b[0mcv\u001b[0m\u001b[0;34m=\u001b[0m\u001b[0;36m3\u001b[0m\u001b[0;34m,\u001b[0m \u001b[0mscoring\u001b[0m\u001b[0;34m=\u001b[0m\u001b[0;34m'neg_mean_absolute_percentage_error'\u001b[0m\u001b[0;34m)\u001b[0m\u001b[0;34m\u001b[0m\u001b[0m\n\u001b[0m",
      "\u001b[0;32m~/anaconda2/envs/py36/lib/python3.6/site-packages/sklearn/model_selection/_validation.py\u001b[0m in \u001b[0;36mcross_val_score\u001b[0;34m(estimator, X, y, groups, scoring, cv, n_jobs, verbose, fit_params, pre_dispatch)\u001b[0m\n\u001b[1;32m    333\u001b[0m     \"\"\"\n\u001b[1;32m    334\u001b[0m     \u001b[0;31m# To ensure multimetric format is not supported\u001b[0m\u001b[0;34m\u001b[0m\u001b[0;34m\u001b[0m\u001b[0m\n\u001b[0;32m--> 335\u001b[0;31m     \u001b[0mscorer\u001b[0m \u001b[0;34m=\u001b[0m \u001b[0mcheck_scoring\u001b[0m\u001b[0;34m(\u001b[0m\u001b[0mestimator\u001b[0m\u001b[0;34m,\u001b[0m \u001b[0mscoring\u001b[0m\u001b[0;34m=\u001b[0m\u001b[0mscoring\u001b[0m\u001b[0;34m)\u001b[0m\u001b[0;34m\u001b[0m\u001b[0m\n\u001b[0m\u001b[1;32m    336\u001b[0m \u001b[0;34m\u001b[0m\u001b[0m\n\u001b[1;32m    337\u001b[0m     cv_results = cross_validate(estimator=estimator, X=X, y=y, groups=groups,\n",
      "\u001b[0;32m~/anaconda2/envs/py36/lib/python3.6/site-packages/sklearn/metrics/scorer.py\u001b[0m in \u001b[0;36mcheck_scoring\u001b[0;34m(estimator, scoring, allow_none)\u001b[0m\n\u001b[1;32m    274\u001b[0m                         \"'fit' method, %r was passed\" % estimator)\n\u001b[1;32m    275\u001b[0m     \u001b[0;32mif\u001b[0m \u001b[0misinstance\u001b[0m\u001b[0;34m(\u001b[0m\u001b[0mscoring\u001b[0m\u001b[0;34m,\u001b[0m \u001b[0msix\u001b[0m\u001b[0;34m.\u001b[0m\u001b[0mstring_types\u001b[0m\u001b[0;34m)\u001b[0m\u001b[0;34m:\u001b[0m\u001b[0;34m\u001b[0m\u001b[0m\n\u001b[0;32m--> 276\u001b[0;31m         \u001b[0;32mreturn\u001b[0m \u001b[0mget_scorer\u001b[0m\u001b[0;34m(\u001b[0m\u001b[0mscoring\u001b[0m\u001b[0;34m)\u001b[0m\u001b[0;34m\u001b[0m\u001b[0m\n\u001b[0m\u001b[1;32m    277\u001b[0m     \u001b[0;32melif\u001b[0m \u001b[0mcallable\u001b[0m\u001b[0;34m(\u001b[0m\u001b[0mscoring\u001b[0m\u001b[0;34m)\u001b[0m\u001b[0;34m:\u001b[0m\u001b[0;34m\u001b[0m\u001b[0m\n\u001b[1;32m    278\u001b[0m         \u001b[0;31m# Heuristic to ensure user has not passed a metric\u001b[0m\u001b[0;34m\u001b[0m\u001b[0;34m\u001b[0m\u001b[0m\n",
      "\u001b[0;32m~/anaconda2/envs/py36/lib/python3.6/site-packages/sklearn/metrics/scorer.py\u001b[0m in \u001b[0;36mget_scorer\u001b[0;34m(scoring)\u001b[0m\n\u001b[1;32m    234\u001b[0m             raise ValueError('%r is not a valid scoring value. '\n\u001b[1;32m    235\u001b[0m                              \u001b[0;34m'Valid options are %s'\u001b[0m\u001b[0;34m\u001b[0m\u001b[0m\n\u001b[0;32m--> 236\u001b[0;31m                              % (scoring, sorted(scorers)))\n\u001b[0m\u001b[1;32m    237\u001b[0m     \u001b[0;32melse\u001b[0m\u001b[0;34m:\u001b[0m\u001b[0;34m\u001b[0m\u001b[0m\n\u001b[1;32m    238\u001b[0m         \u001b[0mscorer\u001b[0m \u001b[0;34m=\u001b[0m \u001b[0mscoring\u001b[0m\u001b[0;34m\u001b[0m\u001b[0m\n",
      "\u001b[0;31mValueError\u001b[0m: 'neg_mean_absolute_percentage_error' is not a valid scoring value. Valid options are ['accuracy', 'adjusted_mutual_info_score', 'adjusted_rand_score', 'average_precision', 'completeness_score', 'explained_variance', 'f1', 'f1_macro', 'f1_micro', 'f1_samples', 'f1_weighted', 'fowlkes_mallows_score', 'homogeneity_score', 'mutual_info_score', 'neg_log_loss', 'neg_mean_absolute_error', 'neg_mean_squared_error', 'neg_mean_squared_log_error', 'neg_median_absolute_error', 'normalized_mutual_info_score', 'precision', 'precision_macro', 'precision_micro', 'precision_samples', 'precision_weighted', 'r2', 'recall', 'recall_macro', 'recall_micro', 'recall_samples', 'recall_weighted', 'roc_auc', 'v_measure_score']"
     ]
    }
   ],
   "source": [
    "cross_val_score(RandomForestRegressor(), data.data, data.target, cv=3, scoring='neg_mean_absolute_percentage_error')"
   ]
  },
  {
   "cell_type": "code",
   "execution_count": 46,
   "metadata": {},
   "outputs": [],
   "source": [
    "def absolute_percentage_error(y_true, y_pred):\n",
    "    return np.mean(np.abs(y_true - y_pred) / y_true)"
   ]
  },
  {
   "cell_type": "code",
   "execution_count": 47,
   "metadata": {},
   "outputs": [],
   "source": [
    "def symmetric_absolute_percentage_error(y_true, y_pred):\n",
    "    return np.mean(np.abs(y_true - y_pred) / (y_true + y_pred))"
   ]
  },
  {
   "cell_type": "code",
   "execution_count": 48,
   "metadata": {},
   "outputs": [
    {
     "data": {
      "text/plain": [
       "array([-0.41724882, -0.41746058, -0.40718118])"
      ]
     },
     "execution_count": 48,
     "metadata": {},
     "output_type": "execute_result"
    }
   ],
   "source": [
    "cross_val_score(\n",
    "    RandomForestRegressor(), \n",
    "    data.data, data.target, \n",
    "    cv=3, \n",
    "    scoring=sklearn.metrics.make_scorer(absolute_percentage_error, greater_is_better=False)\n",
    ")"
   ]
  },
  {
   "cell_type": "code",
   "execution_count": 49,
   "metadata": {},
   "outputs": [
    {
     "data": {
      "text/plain": [
       "array([-0.16746928, -0.1772701 , -0.16144904])"
      ]
     },
     "execution_count": 49,
     "metadata": {},
     "output_type": "execute_result"
    }
   ],
   "source": [
    "cross_val_score(\n",
    "    RandomForestRegressor(random_state=42), \n",
    "    data.data, data.target, \n",
    "    cv=3,\n",
    "    scoring=sklearn.metrics.make_scorer(symmetric_absolute_percentage_error, greater_is_better=False)\n",
    ")"
   ]
  },
  {
   "cell_type": "code",
   "execution_count": 50,
   "metadata": {},
   "outputs": [],
   "source": [
    "def smape_scorer(estimator, X, y):\n",
    "    pred = estimator.predict(X)\n",
    "    return - symmetric_absolute_percentage_error(y, pred)"
   ]
  },
  {
   "cell_type": "code",
   "execution_count": 51,
   "metadata": {},
   "outputs": [
    {
     "data": {
      "text/plain": [
       "array([-0.16746928, -0.1772701 , -0.16144904])"
      ]
     },
     "execution_count": 51,
     "metadata": {},
     "output_type": "execute_result"
    }
   ],
   "source": [
    "cross_val_score(\n",
    "    RandomForestRegressor(random_state=42), \n",
    "    data.data, data.target, \n",
    "    cv=3, \n",
    "    scoring=smape_scorer\n",
    ")"
   ]
  },
  {
   "cell_type": "code",
   "execution_count": 52,
   "metadata": {},
   "outputs": [
    {
     "data": {
      "text/plain": [
       "{'fit_time': array([0.01813507, 0.01718974, 0.017138  ]),\n",
       " 'score_time': array([0.00158477, 0.00152922, 0.00142694]),\n",
       " 'test_mse': array([-3303.04290541, -3733.33714286, -3448.65340136]),\n",
       " 'test_smape': array([-0.16746928, -0.1772701 , -0.16144904]),\n",
       " 'train_mse': array([-762.31615646, -702.55888136, -795.8660678 ]),\n",
       " 'train_smape': array([-0.07686581, -0.07672183, -0.07875703])}"
      ]
     },
     "execution_count": 52,
     "metadata": {},
     "output_type": "execute_result"
    }
   ],
   "source": [
    "cross_validate(\n",
    "    RandomForestRegressor(random_state=42), \n",
    "    data.data, data.target, \n",
    "    cv=3, \n",
    "    scoring={\n",
    "        'smape': smape_scorer,\n",
    "        'mse': sklearn.metrics.make_scorer(sklearn.metrics.mean_squared_error, greater_is_better=False)\n",
    "    },\n",
    "    return_train_score=True\n",
    ")"
   ]
  },
  {
   "cell_type": "code",
   "execution_count": null,
   "metadata": {},
   "outputs": [],
   "source": []
  },
  {
   "cell_type": "markdown",
   "metadata": {},
   "source": [
    "### Несколько свойств оптимизации метрик регрессии\n",
    "\n",
    "- $\\sum\\limits_{i=1}^n \\left(a(x_i) - y_i\\right)^2 \\to \\min \\implies a(x_i) \\approx E(y \\mid x = x_i)$\n",
    "\n",
    "- $\\sum\\limits_{i=1}^n \\left|~a(x_i) - y_i~\\right| \\to \\min \\implies a(x_i) \\approx median(y \\mid x = x_i)$\n",
    "\n",
    "- $\\sum\\limits_{i=1}^n \\alpha~(a(x_i) - y_i)~I\\{a(x_i) \\geq y_i\\} + (1-\\alpha)~(y_i - a(x_i))~I\\{a(x_i) < y_i\\} \\to \\min \\implies a(x_i) \\approx Z_{1 - \\alpha}(y \\mid x = x_i)$\n",
    "\n",
    "**Докажите утверждения в случаях, если все $x_i$ одинаковые**"
   ]
  },
  {
   "cell_type": "markdown",
   "metadata": {},
   "source": [
    "### Проверим пару из этих утверждений"
   ]
  },
  {
   "cell_type": "code",
   "execution_count": 152,
   "metadata": {},
   "outputs": [
    {
     "data": {
      "image/png": "[encoded data removed]",
      "text/plain": [
       "<matplotlib.figure.Figure at 0x1a20176c18>"
      ]
     },
     "metadata": {},
     "output_type": "display_data"
    }
   ],
   "source": [
    "loc, scale = 5, 5\n",
    "y_true = np.random.normal(loc, scale, 1000)\n",
    "y_true[:100] = -100\n",
    "plt.hist(y_true, bins=100);"
   ]
  },
  {
   "cell_type": "code",
   "execution_count": 158,
   "metadata": {},
   "outputs": [
    {
     "data": {
      "text/plain": [
       "<matplotlib.lines.Line2D at 0x1a2016dac8>"
      ]
     },
     "execution_count": 158,
     "metadata": {},
     "output_type": "execute_result"
    },
    {
     "data": {
      "image/png": "[encoded data removed]",
      "text/plain": [
       "<matplotlib.figure.Figure at 0x1a2050e470>"
      ]
     },
     "metadata": {},
     "output_type": "display_data"
    }
   ],
   "source": [
    "fig, axes = plt.subplots(1, 2, figsize=(16,4))\n",
    "\n",
    "y_pred = np.linspace(loc - 3 * scale, loc + 3 * scale, 100)\n",
    "\n",
    "loss = [np.mean((y_true - yp) ** 2) for yp in y_pred]\n",
    "axes[0].plot(y_pred, loss)\n",
    "axes[0].axvline(np.mean(y_true))\n",
    "\n",
    "loss = [np.mean(np.abs(y_true - yp)) for yp in y_pred]\n",
    "axes[1].plot(y_pred, loss)\n",
    "axes[1].axvline(np.median(y_true))"
   ]
  },
  {
   "cell_type": "code",
   "execution_count": null,
   "metadata": {},
   "outputs": [],
   "source": []
  },
  {
   "cell_type": "markdown",
   "metadata": {},
   "source": [
    "### Как оптимизировать MAPE через оптимизацию MAE?\n",
    "\n",
    "**Подберите такую функцию $f$, чтобы**\n",
    "\n",
    "$\\sum\\limits_{i=1}^n \\left|~f(a(x_i)) - f(y_i)~\\right| \\approx \\sum\\limits_{i=1}^n \\frac{|a(x_i) - y_i|}{y_i}$\n",
    "\n",
    "Возможно, стоит разложить левую часть в ряд Тейлора"
   ]
  },
  {
   "cell_type": "code",
   "execution_count": null,
   "metadata": {},
   "outputs": [],
   "source": []
  },
  {
   "cell_type": "code",
   "execution_count": null,
   "metadata": {},
   "outputs": [],
   "source": []
  }
 ],
 "metadata": {
  "kernelspec": {
   "display_name": "Python 3",
   "language": "python",
   "name": "python3"
  },
  "language_info": {
   "codemirror_mode": {
    "name": "ipython",
    "version": 3
   },
   "file_extension": ".py",
   "mimetype": "text/x-python",
   "name": "python",
   "nbconvert_exporter": "python",
   "pygments_lexer": "ipython3",
   "version": "3.6.5"
  }
 },
 "nbformat": 4,
 "nbformat_minor": 2
}
